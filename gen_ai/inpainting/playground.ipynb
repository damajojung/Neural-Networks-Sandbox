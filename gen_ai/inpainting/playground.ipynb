{
 "cells": [
  {
   "cell_type": "markdown",
   "metadata": {},
   "source": [
    "# Inpainting Test"
   ]
  },
  {
   "cell_type": "markdown",
   "metadata": {},
   "source": [
    "# White on Black"
   ]
  },
  {
   "cell_type": "code",
   "execution_count": 2,
   "metadata": {},
   "outputs": [],
   "source": [
    "import cv2\n",
    "import numpy as np\n",
    "import time"
   ]
  },
  {
   "cell_type": "code",
   "execution_count": null,
   "metadata": {},
   "outputs": [],
   "source": [
    "import cv2\n",
    "import numpy as np\n",
    "\n",
    "# Callback function for drawing\n",
    "def draw(event, x, y, flags, param):\n",
    "    global drawing, last_point\n",
    "\n",
    "    if event == cv2.EVENT_LBUTTONDOWN:  # Start drawing\n",
    "        drawing = True\n",
    "        last_point = (x, y)\n",
    "    elif event == cv2.EVENT_MOUSEMOVE and drawing:  # Draw while moving\n",
    "        cv2.line(canvas, last_point, (x, y), (255, 255, 255), thickness=3)\n",
    "        last_point = (x, y)\n",
    "    elif event == cv2.EVENT_LBUTTONUP:  # Stop drawing\n",
    "        drawing = False\n",
    "\n",
    "# Initialize canvas and drawing parameters\n",
    "width, height = 800, 600\n",
    "canvas = np.zeros((height, width, 3), dtype=np.uint8)\n",
    "drawing = False\n",
    "last_point = None"
   ]
  },
  {
   "cell_type": "code",
   "execution_count": 6,
   "metadata": {},
   "outputs": [
    {
     "name": "stdout",
     "output_type": "stream",
     "text": [
      "Draw with your mouse. Press 's' to save and 'q' to quit.\n",
      "Drawing saved as 'drawing.png'\n"
     ]
    }
   ],
   "source": [
    "# Create a named window and set the callback\n",
    "cv2.namedWindow('Draw')\n",
    "cv2.setMouseCallback('Draw', draw)\n",
    "\n",
    "print(\"Draw with your mouse. Press 's' to save and 'q' to quit.\")\n",
    "\n",
    "cv2.startWindowThread()\n",
    "\n",
    "while True:\n",
    "    cv2.imshow('Draw', canvas)\n",
    "    key = cv2.waitKey(1) & 0xFF\n",
    "\n",
    "    if key == ord('q'):  # Quit the application\n",
    "        break\n",
    "    elif key == ord('s'):  # Save the drawing\n",
    "        cv2.imwrite('drawing.png', canvas)\n",
    "        print(\"Drawing saved as 'drawing.png'\")\n",
    "\n",
    "cv2.destroyAllWindows()"
   ]
  },
  {
   "cell_type": "code",
   "execution_count": 8,
   "metadata": {},
   "outputs": [],
   "source": [
    "cv2.destroyAllWindows()\n",
    "for i in range (1,5):\n",
    "    cv2.waitKey(1)"
   ]
  },
  {
   "cell_type": "code",
   "execution_count": 4,
   "metadata": {},
   "outputs": [
    {
     "name": "stdout",
     "output_type": "stream",
     "text": [
      "test\n"
     ]
    }
   ],
   "source": [
    "print('test')"
   ]
  },
  {
   "cell_type": "code",
   "execution_count": null,
   "metadata": {},
   "outputs": [],
   "source": []
  },
  {
   "cell_type": "markdown",
   "metadata": {},
   "source": [
    "# White on slightly dimmed image\n",
    "\n",
    "But image is saved as white on black"
   ]
  },
  {
   "cell_type": "code",
   "execution_count": 18,
   "metadata": {},
   "outputs": [
    {
     "name": "stdout",
     "output_type": "stream",
     "text": [
      "Draw with your mouse. Press 's' to save and 'q' to quit.\n",
      "Drawing saved as 'drawing_on_black_background.png_1735642417'\n"
     ]
    },
    {
     "ename": "",
     "evalue": "",
     "output_type": "error",
     "traceback": [
      "\u001b[1;31mThe Kernel crashed while executing code in the current cell or a previous cell. \n",
      "\u001b[1;31mPlease review the code in the cell(s) to identify a possible cause of the failure. \n",
      "\u001b[1;31mClick <a href='https://aka.ms/vscodeJupyterKernelCrash'>here</a> for more info. \n",
      "\u001b[1;31mView Jupyter <a href='command:jupyter.viewOutput'>log</a> for further details."
     ]
    }
   ],
   "source": [
    "# Callback function for drawing\n",
    "def draw(event, x, y, flags, param):\n",
    "    global drawing, last_point\n",
    "\n",
    "    if event == cv2.EVENT_LBUTTONDOWN:  # Start drawing\n",
    "        drawing = True\n",
    "        last_point = (x, y)\n",
    "    elif event == cv2.EVENT_MOUSEMOVE and drawing:  # Draw while moving\n",
    "        cv2.line(overlay, last_point, (x, y), (255, 255, 255), thickness=75)\n",
    "        last_point = (x, y)\n",
    "    elif event == cv2.EVENT_LBUTTONUP:  # Stop drawing\n",
    "        drawing = False\n",
    "\n",
    "# Load and preprocess the background image\n",
    "image_path = '/Users/dj/Desktop/dog.jpg'  # Replace with the path to your image\n",
    "background = cv2.imread(image_path)\n",
    "\n",
    "if background is None:\n",
    "    raise ValueError(\"Image not found! Check the image path.\")\n",
    "\n",
    "# Resize the image to fit the canvas\n",
    "height, width = 600, 800  # Canvas dimensions\n",
    "background = cv2.resize(background, (width, height))\n",
    "\n",
    "# Dim the image\n",
    "dimmed_background = (background * 0.5).astype(np.uint8)\n",
    "\n",
    "# Create an overlay for drawing\n",
    "overlay = np.zeros_like(background)\n",
    "\n",
    "drawing = False\n",
    "last_point = None\n",
    "\n",
    "# Create a named window and set the callback\n",
    "cv2.namedWindow('Draw')\n",
    "cv2.setMouseCallback('Draw', draw)\n",
    "\n",
    "print(\"Draw with your mouse. Press 's' to save and 'q' to quit.\")\n",
    "\n",
    "time_of_initialisation = int(time.time())\n",
    "\n",
    "while True:\n",
    "    # Combine the background and the overlay\n",
    "    combined = cv2.add(dimmed_background, overlay)\n",
    "    cv2.imshow('Draw', combined)\n",
    "    \n",
    "    key = cv2.waitKey(1) & 0xFF\n",
    "\n",
    "    if key == ord('q'):  # Quit the application\n",
    "        break\n",
    "    elif key == ord('s'):  # Save the drawing\n",
    "        # cv2.imwrite(f\"drawing_with_background_{time_of_initialisation}.png\", combined)\n",
    "        # print(f\"Drawing saved as 'drawing_with_background_{time_of_initialisation}.png'\")\n",
    "\n",
    "        black_background = np.zeros_like(background)  # Create a black background\n",
    "        black_background_with_drawing = cv2.add(black_background, overlay)  # Add the drawing to the black background\n",
    "        cv2.imwrite(f'drawing_on_black_background_{time_of_initialisation}.png', black_background_with_drawing)\n",
    "        print(f\"Drawing saved as 'drawing_on_black_background.png_{time_of_initialisation}'\")\n",
    "\n",
    "\n",
    "cv2.destroyAllWindows()\n",
    "for i in range (1,5):\n",
    "    cv2.waitKey(1)"
   ]
  },
  {
   "cell_type": "code",
   "execution_count": null,
   "metadata": {},
   "outputs": [],
   "source": []
  },
  {
   "cell_type": "code",
   "execution_count": null,
   "metadata": {},
   "outputs": [],
   "source": []
  },
  {
   "cell_type": "code",
   "execution_count": null,
   "metadata": {},
   "outputs": [],
   "source": []
  },
  {
   "cell_type": "code",
   "execution_count": null,
   "metadata": {},
   "outputs": [],
   "source": []
  }
 ],
 "metadata": {
  "kernelspec": {
   "display_name": "deeplearning",
   "language": "python",
   "name": "python3"
  },
  "language_info": {
   "codemirror_mode": {
    "name": "ipython",
    "version": 3
   },
   "file_extension": ".py",
   "mimetype": "text/x-python",
   "name": "python",
   "nbconvert_exporter": "python",
   "pygments_lexer": "ipython3",
   "version": "3.12.7"
  }
 },
 "nbformat": 4,
 "nbformat_minor": 2
}
