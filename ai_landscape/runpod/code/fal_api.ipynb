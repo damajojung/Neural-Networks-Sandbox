{
 "cells": [
  {
   "cell_type": "markdown",
   "metadata": {},
   "source": [
    "# Fal API"
   ]
  },
  {
   "cell_type": "code",
   "execution_count": null,
   "metadata": {},
   "outputs": [],
   "source": []
  },
  {
   "cell_type": "code",
   "execution_count": null,
   "metadata": {},
   "outputs": [],
   "source": []
  },
  {
   "cell_type": "markdown",
   "metadata": {},
   "source": [
    "## ComfyUI workflow on Fal - API"
   ]
  },
  {
   "cell_type": "code",
   "execution_count": 4,
   "metadata": {},
   "outputs": [],
   "source": [
    "import os\n",
    "import yaml\n",
    "import time\n",
    "import asyncio\n",
    "import fal_client\n",
    "import requests\n",
    "\n",
    "# with open(os.path.join(os.getcwd(), 'tokens.yml')) as f:\n",
    "#     tokens = yaml.safe_load(f)\n",
    "\n",
    "# os.environ[\"FAL_KEY\"] = tokens['FAL_KEY'][0]"
   ]
  },
  {
   "cell_type": "code",
   "execution_count": 4,
   "metadata": {},
   "outputs": [],
   "source": [
    "async def subscribe():\n",
    "    handler = await fal_client.submit_async(\n",
    "        \"comfy/damajojung/e1nilean\",\n",
    "          arguments={\n",
    "                \"prompt\": \"a picture of deep space with many stars and colorful nebulas\",\n",
    "                \"image_size\": {\n",
    "                    \"width\": 1024,\n",
    "                    \"height\": 1024\n",
    "                }\n",
    "            }\n",
    "    )\n",
    "\n",
    "    async for event in handler.iter_events(with_logs=True):\n",
    "        print(event)\n",
    "\n",
    "    result = await handler.get()\n",
    "\n",
    "    print(result)\n"
   ]
  },
  {
   "cell_type": "code",
   "execution_count": null,
   "metadata": {},
   "outputs": [],
   "source": [
    "asyncio.run(subscribe())"
   ]
  },
  {
   "cell_type": "code",
   "execution_count": null,
   "metadata": {},
   "outputs": [],
   "source": [
    "info = fal_client.get_model_info(\"comfy/damajojung/e1nilean\")\n",
    "print(info)"
   ]
  },
  {
   "cell_type": "code",
   "execution_count": null,
   "metadata": {},
   "outputs": [],
   "source": [
    "handler = await fal_client.submit_async(\"comfy/damajojung/e1nilean\", \n",
    "                arguments={\n",
    "                \"prompt\": \"a picture of deep space with many stars and colorful nebulas\"\n",
    "            })\n",
    "print(handler.metadata)  # Check if this provides schema or input information\n"
   ]
  },
  {
   "cell_type": "code",
   "execution_count": null,
   "metadata": {},
   "outputs": [],
   "source": []
  }
 ],
 "metadata": {
  "kernelspec": {
   "display_name": "deeplearning",
   "language": "python",
   "name": "python3"
  },
  "language_info": {
   "codemirror_mode": {
    "name": "ipython",
    "version": 3
   },
   "file_extension": ".py",
   "mimetype": "text/x-python",
   "name": "python",
   "nbconvert_exporter": "python",
   "pygments_lexer": "ipython3",
   "version": "3.12.7"
  }
 },
 "nbformat": 4,
 "nbformat_minor": 2
}
