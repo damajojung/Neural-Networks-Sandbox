{
 "cells": [
  {
   "cell_type": "code",
   "execution_count": 1,
   "metadata": {},
   "outputs": [],
   "source": [
    "# Playground for AI trends\n",
    "\n",
    "# load packages\n",
    "import os\n",
    "import replicate\n",
    "from replicate.client import Client\n",
    "import yaml"
   ]
  },
  {
   "cell_type": "code",
   "execution_count": 2,
   "metadata": {},
   "outputs": [],
   "source": [
    "with open(os.path.join(os.getcwd(), 'tokens.yml')) as f:\n",
    "    tokens = yaml.safe_load(f)\n",
    "\n",
    "os.environ[\"REPLICATE_API_TOKEN\"] = tokens['REPLICATE_API_TOKEN'][0]"
   ]
  },
  {
   "cell_type": "code",
   "execution_count": 3,
   "metadata": {},
   "outputs": [],
   "source": [
    "replicate = Client(\n",
    "  api_token=os.environ[\"REPLICATE_API_TOKEN\"],\n",
    "  headers={\n",
    "    \"User-Agent\": \"replicate-google-colab-example/1.0\"\n",
    "  }\n",
    ")"
   ]
  },
  {
   "cell_type": "code",
   "execution_count": 4,
   "metadata": {},
   "outputs": [
    {
     "name": "stdout",
     "output_type": "stream",
     "text": [
      "Image saved as output.png\n"
     ]
    }
   ],
   "source": [
    "\n",
    "output = replicate.run(\n",
    "  \"black-forest-labs/flux-schnell\",\n",
    "  input={\"prompt\": \"an iguana on the beach, pointillism\"}\n",
    ")\n",
    " \n",
    "# Save the generated image\n",
    "with open('output.png', 'wb') as f:\n",
    "    f.write(output[0].read())\n",
    " \n",
    "print(f\"Image saved as output.png\")"
   ]
  },
  {
   "cell_type": "code",
   "execution_count": null,
   "metadata": {},
   "outputs": [],
   "source": []
  },
  {
   "cell_type": "code",
   "execution_count": null,
   "metadata": {},
   "outputs": [],
   "source": []
  },
  {
   "cell_type": "code",
   "execution_count": null,
   "metadata": {},
   "outputs": [],
   "source": []
  },
  {
   "cell_type": "code",
   "execution_count": null,
   "metadata": {},
   "outputs": [],
   "source": []
  },
  {
   "cell_type": "code",
   "execution_count": null,
   "metadata": {},
   "outputs": [],
   "source": []
  },
  {
   "cell_type": "code",
   "execution_count": null,
   "metadata": {},
   "outputs": [],
   "source": []
  },
  {
   "cell_type": "code",
   "execution_count": null,
   "metadata": {},
   "outputs": [],
   "source": []
  },
  {
   "cell_type": "code",
   "execution_count": null,
   "metadata": {},
   "outputs": [],
   "source": []
  }
 ],
 "metadata": {
  "kernelspec": {
   "display_name": "deeplearning",
   "language": "python",
   "name": "python3"
  },
  "language_info": {
   "codemirror_mode": {
    "name": "ipython",
    "version": 3
   },
   "file_extension": ".py",
   "mimetype": "text/x-python",
   "name": "python",
   "nbconvert_exporter": "python",
   "pygments_lexer": "ipython3",
   "version": "3.12.7"
  }
 },
 "nbformat": 4,
 "nbformat_minor": 2
}
