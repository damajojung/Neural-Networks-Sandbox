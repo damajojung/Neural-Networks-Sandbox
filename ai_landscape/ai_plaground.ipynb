{
 "cells": [
  {
   "cell_type": "code",
   "execution_count": 20,
   "metadata": {},
   "outputs": [],
   "source": [
    "import os\n",
    "import replicate\n",
    "from replicate.client import Client\n",
    "import yaml\n",
    "import time\n",
    "\n",
    "from replicate_models import getFluxSchnellImage, getFluxDevImage, getFluxProImage"
   ]
  },
  {
   "cell_type": "code",
   "execution_count": 21,
   "metadata": {},
   "outputs": [],
   "source": [
    "with open(os.path.join(os.getcwd(), 'tokens.yml')) as f:\n",
    "    tokens = yaml.safe_load(f)"
   ]
  },
  {
   "cell_type": "code",
   "execution_count": null,
   "metadata": {},
   "outputs": [],
   "source": []
  },
  {
   "cell_type": "markdown",
   "metadata": {},
   "source": [
    "# Replicate"
   ]
  },
  {
   "cell_type": "code",
   "execution_count": 7,
   "metadata": {},
   "outputs": [
    {
     "name": "stdout",
     "output_type": "stream",
     "text": [
      "Image saved as output_1732213474.png\n"
     ]
    }
   ],
   "source": [
    "os.environ[\"REPLICATE_API_TOKEN\"] = tokens['REPLICATE_API_TOKEN'][0]\n",
    "replicate = Client(api_token=os.environ[\"REPLICATE_API_TOKEN\"])\n",
    "\n",
    "models = ['flux-schnell', 'flux-1.1-pro-ultra']\n",
    "model = models[0]\n",
    "\n",
    "output = replicate.run(\n",
    "  f\"black-forest-labs/{model}\",\n",
    "  input={\"prompt\": \"a desk of a nuclear engineer with lots of papers on it with calculations\"}\n",
    ")\n",
    "\n",
    "file_name = f'output_{int(time.time())}.png'\n",
    "\n",
    "# Save the generated image\n",
    "with open(file_name, 'wb') as f:\n",
    "    f.write(output[0].read())\n",
    " \n",
    "print(f\"Image saved as {file_name}\")"
   ]
  },
  {
   "cell_type": "code",
   "execution_count": null,
   "metadata": {},
   "outputs": [],
   "source": []
  },
  {
   "cell_type": "code",
   "execution_count": null,
   "metadata": {},
   "outputs": [],
   "source": []
  },
  {
   "cell_type": "markdown",
   "metadata": {},
   "source": [
    "### Flux Schnell"
   ]
  },
  {
   "cell_type": "code",
   "execution_count": null,
   "metadata": {},
   "outputs": [],
   "source": [
    "\n",
    "prompt = 'a stoic standing on a hill overlooking an ancient greek city'\n",
    "\n",
    "output = getFluxSchnellImage(prompt = prompt)\n",
    "\n",
    "file_name = f'output_{int(time.time())}_schnell.png'\n",
    "    \n",
    "# Save the generated image\n",
    "with open(file_name, 'wb') as f:\n",
    "    f.write(output[0].read())\n",
    " \n",
    "print(f\"Image saved as {file_name}\")"
   ]
  },
  {
   "cell_type": "code",
   "execution_count": null,
   "metadata": {},
   "outputs": [],
   "source": []
  },
  {
   "cell_type": "markdown",
   "metadata": {},
   "source": [
    "### Flux Dev"
   ]
  },
  {
   "cell_type": "code",
   "execution_count": null,
   "metadata": {},
   "outputs": [],
   "source": [
    "prompt = 'a stoic soldier standing on a hill overlooking an ancient greek city'\n",
    "\n",
    "output = getFluxDevImage(prompt = prompt)\n",
    "\n",
    "file_name = f'output_{int(time.time())}_dev.png'\n",
    "\n",
    "# Save the generated image\n",
    "with open(file_name, 'wb') as f:\n",
    "    f.write(output[0].read())\n",
    " \n",
    "print(f\"Image saved as {file_name}\")"
   ]
  },
  {
   "cell_type": "code",
   "execution_count": null,
   "metadata": {},
   "outputs": [],
   "source": []
  },
  {
   "cell_type": "markdown",
   "metadata": {},
   "source": [
    "### Flux Pro"
   ]
  },
  {
   "cell_type": "code",
   "execution_count": null,
   "metadata": {},
   "outputs": [],
   "source": [
    "prompt = 'a stoic soldier standing on a hill overlooking an ancient greek city'\n",
    "\n",
    "output = getFluxProImage(prompt = prompt)\n",
    "\n",
    "file_name = f'output_{int(time.time())}_pro.png'\n",
    "\n",
    "# Save the generated image\n",
    "with open(file_name, 'wb') as f:\n",
    "    f.write(output.read())\n",
    " \n",
    "print(f\"Image saved as {file_name}\")"
   ]
  },
  {
   "cell_type": "code",
   "execution_count": null,
   "metadata": {},
   "outputs": [],
   "source": [
    "# Save the generated image\n",
    "with open(file_name, 'wb') as f:\n",
    "    f.write(output.read())\n",
    " \n",
    "print(f\"Image saved as {file_name}\")"
   ]
  },
  {
   "cell_type": "code",
   "execution_count": null,
   "metadata": {},
   "outputs": [],
   "source": [
    "print(output)"
   ]
  },
  {
   "cell_type": "code",
   "execution_count": null,
   "metadata": {},
   "outputs": [],
   "source": []
  },
  {
   "cell_type": "code",
   "execution_count": null,
   "metadata": {},
   "outputs": [],
   "source": []
  },
  {
   "cell_type": "markdown",
   "metadata": {},
   "source": [
    "# fal"
   ]
  },
  {
   "cell_type": "code",
   "execution_count": 17,
   "metadata": {},
   "outputs": [],
   "source": [
    "import fal_client\n",
    "import requests\n",
    "\n",
    "os.environ[\"FAL_KEY\"] = tokens['FAL_KEY'][0]"
   ]
  },
  {
   "cell_type": "code",
   "execution_count": null,
   "metadata": {},
   "outputs": [],
   "source": [
    "handler = fal_client.submit(\n",
    "  \"fal-ai/flux/dev\",\n",
    "  arguments={\n",
    "      \"prompt\": \"a picture of deep space with many stars and colorful nebulas\",\n",
    "      # \"image_size\": \"landscape_16_9\",\n",
    "      \"image_size\": {\n",
    "          \"width\": 1584,\n",
    "          \"height\": 396\n",
    "    }\n",
    "  },\n",
    ")\n",
    "\n",
    "result = handler.get()\n",
    "print(result)"
   ]
  },
  {
   "cell_type": "code",
   "execution_count": 33,
   "metadata": {},
   "outputs": [
    {
     "name": "stdout",
     "output_type": "stream",
     "text": [
      "Image saved as fal_output_1734690702.png\n"
     ]
    }
   ],
   "source": [
    "fal_image = result['images']\n",
    "\n",
    "# Fetch the image\n",
    "response = requests.get(fal_image[0]['url'])\n",
    "response.raise_for_status()  # Raise an error if the request fails\n",
    "\n",
    "file_name = f'fal_output_{int(time.time())}.png'\n",
    "\n",
    "# Save the image to a file\n",
    "with open(file_name, 'wb') as f:\n",
    "    f.write(response.content)\n",
    "\n",
    "print(f\"Image saved as {file_name}\")"
   ]
  },
  {
   "cell_type": "code",
   "execution_count": null,
   "metadata": {},
   "outputs": [],
   "source": []
  },
  {
   "cell_type": "code",
   "execution_count": 59,
   "metadata": {},
   "outputs": [
    {
     "data": {
      "text/plain": [
       "{'url': 'https://fal.media/files/kangaroo/yoYd7PXqbl48G4eFq-Ulj.png',\n",
       " 'width': 1536,\n",
       " 'height': 512,\n",
       " 'content_type': 'image/jpeg'}"
      ]
     },
     "execution_count": 59,
     "metadata": {},
     "output_type": "execute_result"
    }
   ],
   "source": [
    "fal_image[0] # is a list of dictionnaries"
   ]
  },
  {
   "cell_type": "code",
   "execution_count": null,
   "metadata": {},
   "outputs": [],
   "source": [
    "# test"
   ]
  },
  {
   "cell_type": "code",
   "execution_count": null,
   "metadata": {},
   "outputs": [],
   "source": []
  },
  {
   "cell_type": "markdown",
   "metadata": {},
   "source": [
    "# Fal API"
   ]
  },
  {
   "cell_type": "code",
   "execution_count": 32,
   "metadata": {},
   "outputs": [],
   "source": [
    "import os\n",
    "import yaml\n",
    "import time\n",
    "import asyncio\n",
    "import fal_client\n",
    "import requests"
   ]
  },
  {
   "cell_type": "code",
   "execution_count": 42,
   "metadata": {},
   "outputs": [],
   "source": [
    "async def subscribe():\n",
    "    handler = await fal_client.submit_async(\n",
    "        \"comfy/damajojung/e1nileanfal\",\n",
    "        arguments={\n",
    "            \"prompt\": \"a european viking in an enchanted forest\"\n",
    "        },\n",
    "    )\n",
    "\n",
    "    async for event in handler.iter_events(with_logs=True):\n",
    "        print(event)\n",
    "\n",
    "    result = await handler.get()\n",
    "\n",
    "    print(result)"
   ]
  },
  {
   "cell_type": "code",
   "execution_count": null,
   "metadata": {},
   "outputs": [],
   "source": [
    "with open(os.path.join(os.getcwd(), 'tokens.yml')) as f:\n",
    "    tokens = yaml.safe_load(f)\n",
    "\n",
    "os.environ[\"FAL_KEY\"] = tokens['FAL_KEY'][0]\n",
    "\n",
    "a = time.time()\n",
    "asyncio.run(subscribe())\n",
    "b = time.time()\n",
    "\n",
    "c = b - a\n",
    "print(f'Inference Time: {round(c,3)} s')"
   ]
  },
  {
   "cell_type": "code",
   "execution_count": 37,
   "metadata": {},
   "outputs": [
    {
     "name": "stdout",
     "output_type": "stream",
     "text": [
      "1737487950.3400068\n",
      "1737487950.340039\n",
      "3.218650817871094e-05\n"
     ]
    }
   ],
   "source": [
    "a = time.time()\n",
    "b = time.time()\n",
    "\n",
    "print(a)\n",
    "print(b)\n",
    "\n",
    "c = b - a\n",
    "print(c)"
   ]
  },
  {
   "cell_type": "code",
   "execution_count": 45,
   "metadata": {},
   "outputs": [],
   "source": [
    "# Define the folder and file name\n",
    "folder = \"promts\"\n",
    "file_name = \"api_promts.yml\"\n",
    "\n",
    "# Construct the full file path\n",
    "file_path = os.path.join(os.getcwd(), folder, file_name)\n",
    "\n",
    "# Read the YAML file\n",
    "with open(file_path, \"r\") as f:\n",
    "    data = yaml.safe_load(f)"
   ]
  },
  {
   "cell_type": "code",
   "execution_count": 49,
   "metadata": {},
   "outputs": [
    {
     "name": "stdout",
     "output_type": "stream",
     "text": [
      "a close uf of a viking woman's face, ultra realistic\n",
      "a close uf of a viking men's face, ultra realistic\n",
      "a close uf of a native american woman's face, ultra realistic\n",
      "a close uf of a native american men's face, ultra realistic\n",
      "a close uf of a native asian woman's face, ultra realistic\n",
      "a close uf of a native asian men's face, ultra realistic\n"
     ]
    }
   ],
   "source": [
    "for d in data['promts']:\n",
    "    print(d)"
   ]
  },
  {
   "cell_type": "code",
   "execution_count": 54,
   "metadata": {},
   "outputs": [],
   "source": [
    "folder = \"api_logs\"\n",
    "file_name = \"logs.txt\"\n",
    "file_path = os.path.join(os.getcwd(), folder, file_name)"
   ]
  },
  {
   "cell_type": "code",
   "execution_count": 55,
   "metadata": {},
   "outputs": [
    {
     "data": {
      "text/plain": [
       "'/Users/dj/Documents/GitHub/Neural-Networks-Sandbox/ai_landscape/api_logs/logs.txt'"
      ]
     },
     "execution_count": 55,
     "metadata": {},
     "output_type": "execute_result"
    }
   ],
   "source": [
    "file_path"
   ]
  },
  {
   "cell_type": "code",
   "execution_count": 68,
   "metadata": {},
   "outputs": [
    {
     "data": {
      "text/plain": [
       "'2025-01-22 10:12:45.934997'"
      ]
     },
     "execution_count": 68,
     "metadata": {},
     "output_type": "execute_result"
    }
   ],
   "source": [
    "\n",
    "from datetime import datetime\n",
    "str(datetime.now())"
   ]
  },
  {
   "cell_type": "code",
   "execution_count": 70,
   "metadata": {},
   "outputs": [
    {
     "data": {
      "text/plain": [
       "1737537311"
      ]
     },
     "execution_count": 70,
     "metadata": {},
     "output_type": "execute_result"
    }
   ],
   "source": [
    "round(time.time())"
   ]
  },
  {
   "cell_type": "code",
   "execution_count": null,
   "metadata": {},
   "outputs": [],
   "source": []
  },
  {
   "cell_type": "code",
   "execution_count": null,
   "metadata": {},
   "outputs": [],
   "source": []
  },
  {
   "cell_type": "code",
   "execution_count": null,
   "metadata": {},
   "outputs": [],
   "source": []
  },
  {
   "cell_type": "code",
   "execution_count": null,
   "metadata": {},
   "outputs": [],
   "source": []
  },
  {
   "cell_type": "code",
   "execution_count": null,
   "metadata": {},
   "outputs": [],
   "source": []
  },
  {
   "cell_type": "code",
   "execution_count": null,
   "metadata": {},
   "outputs": [],
   "source": []
  },
  {
   "cell_type": "code",
   "execution_count": null,
   "metadata": {},
   "outputs": [],
   "source": []
  }
 ],
 "metadata": {
  "kernelspec": {
   "display_name": "deeplearning",
   "language": "python",
   "name": "python3"
  },
  "language_info": {
   "codemirror_mode": {
    "name": "ipython",
    "version": 3
   },
   "file_extension": ".py",
   "mimetype": "text/x-python",
   "name": "python",
   "nbconvert_exporter": "python",
   "pygments_lexer": "ipython3",
   "version": "3.12.7"
  }
 },
 "nbformat": 4,
 "nbformat_minor": 2
}
