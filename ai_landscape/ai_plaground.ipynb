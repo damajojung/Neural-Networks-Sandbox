{
 "cells": [
  {
   "cell_type": "code",
   "execution_count": 1,
   "metadata": {},
   "outputs": [],
   "source": [
    "import os\n",
    "import replicate\n",
    "from replicate.client import Client\n",
    "import yaml\n",
    "import time\n",
    "\n",
    "from replicate_models import getFluxSchnellImage, getFluxDevImage, getFluxProImage"
   ]
  },
  {
   "cell_type": "code",
   "execution_count": 2,
   "metadata": {},
   "outputs": [],
   "source": [
    "with open(os.path.join(os.getcwd(), 'tokens.yml')) as f:\n",
    "    tokens = yaml.safe_load(f)"
   ]
  },
  {
   "cell_type": "code",
   "execution_count": null,
   "metadata": {},
   "outputs": [],
   "source": []
  },
  {
   "cell_type": "markdown",
   "metadata": {},
   "source": [
    "# Replicate"
   ]
  },
  {
   "cell_type": "code",
   "execution_count": null,
   "metadata": {},
   "outputs": [],
   "source": [
    "os.environ[\"REPLICATE_API_TOKEN\"] = tokens['REPLICATE_API_TOKEN'][0]\n",
    "replicate = Client(api_token=os.environ[\"REPLICATE_API_TOKEN\"])\n",
    "\n",
    "models = ['flux-schnell', 'flux-1.1-pro-ultra']\n",
    "model = models[0]\n",
    "\n",
    "output = replicate.run(\n",
    "  f\"black-forest-labs/{model}\",\n",
    "  input={\"prompt\": \"a stoic standing on a hill overlooking an ancient greek city\"}\n",
    ")\n",
    "\n",
    "file_name = f'output_{int(time.time())}.png'\n",
    "\n",
    "# Save the generated image\n",
    "with open(file_name, 'wb') as f:\n",
    "    f.write(output[0].read())\n",
    " \n",
    "print(f\"Image saved as {file_name}\")"
   ]
  },
  {
   "cell_type": "code",
   "execution_count": null,
   "metadata": {},
   "outputs": [],
   "source": []
  },
  {
   "cell_type": "code",
   "execution_count": null,
   "metadata": {},
   "outputs": [],
   "source": []
  },
  {
   "cell_type": "markdown",
   "metadata": {},
   "source": [
    "### Flux Schnell"
   ]
  },
  {
   "cell_type": "code",
   "execution_count": null,
   "metadata": {},
   "outputs": [],
   "source": [
    "\n",
    "prompt = 'a stoic standing on a hill overlooking an ancient greek city'\n",
    "\n",
    "output = getFluxSchnellImage(prompt = prompt)\n",
    "\n",
    "file_name = f'output_{int(time.time())}_schnell.png'\n",
    "    \n",
    "# Save the generated image\n",
    "with open(file_name, 'wb') as f:\n",
    "    f.write(output[0].read())\n",
    " \n",
    "print(f\"Image saved as {file_name}\")"
   ]
  },
  {
   "cell_type": "code",
   "execution_count": null,
   "metadata": {},
   "outputs": [],
   "source": []
  },
  {
   "cell_type": "markdown",
   "metadata": {},
   "source": [
    "### Flux Dev"
   ]
  },
  {
   "cell_type": "code",
   "execution_count": null,
   "metadata": {},
   "outputs": [],
   "source": [
    "prompt = 'a stoic soldier standing on a hill overlooking an ancient greek city'\n",
    "\n",
    "output = getFluxDevImage(prompt = prompt)\n",
    "\n",
    "file_name = f'output_{int(time.time())}_dev.png'\n",
    "\n",
    "# Save the generated image\n",
    "with open(file_name, 'wb') as f:\n",
    "    f.write(output[0].read())\n",
    " \n",
    "print(f\"Image saved as {file_name}\")"
   ]
  },
  {
   "cell_type": "code",
   "execution_count": null,
   "metadata": {},
   "outputs": [],
   "source": []
  },
  {
   "cell_type": "markdown",
   "metadata": {},
   "source": [
    "### Flux Pro"
   ]
  },
  {
   "cell_type": "code",
   "execution_count": null,
   "metadata": {},
   "outputs": [],
   "source": [
    "prompt = 'a stoic soldier standing on a hill overlooking an ancient greek city'\n",
    "\n",
    "output = getFluxProImage(prompt = prompt)\n",
    "\n",
    "file_name = f'output_{int(time.time())}_pro.png'\n",
    "\n",
    "# Save the generated image\n",
    "with open(file_name, 'wb') as f:\n",
    "    f.write(output.read())\n",
    " \n",
    "print(f\"Image saved as {file_name}\")"
   ]
  },
  {
   "cell_type": "code",
   "execution_count": null,
   "metadata": {},
   "outputs": [],
   "source": [
    "# Save the generated image\n",
    "with open(file_name, 'wb') as f:\n",
    "    f.write(output.read())\n",
    " \n",
    "print(f\"Image saved as {file_name}\")"
   ]
  },
  {
   "cell_type": "code",
   "execution_count": null,
   "metadata": {},
   "outputs": [],
   "source": [
    "print(output)"
   ]
  },
  {
   "cell_type": "code",
   "execution_count": null,
   "metadata": {},
   "outputs": [],
   "source": []
  },
  {
   "cell_type": "code",
   "execution_count": null,
   "metadata": {},
   "outputs": [],
   "source": []
  },
  {
   "cell_type": "markdown",
   "metadata": {},
   "source": [
    "# fal"
   ]
  },
  {
   "cell_type": "code",
   "execution_count": 3,
   "metadata": {},
   "outputs": [],
   "source": [
    "os.environ[\"FAL_KEY\"] = tokens['FAL_KEY'][0]"
   ]
  },
  {
   "cell_type": "code",
   "execution_count": null,
   "metadata": {},
   "outputs": [
    {
     "name": "stdout",
     "output_type": "stream",
     "text": [
      "{'images': [{'url': 'https://fal.media/files/kangaroo/yoYd7PXqbl48G4eFq-Ulj.png', 'width': 1536, 'height': 512, 'content_type': 'image/jpeg'}], 'timings': {'inference': 2.056845243088901}, 'seed': 1560110087, 'has_nsfw_concepts': [False], 'prompt': 'blue colours that look like diffused in liquid and are mixed up gently. Smooth transiotion between the colours, 8k'}\n"
     ]
    }
   ],
   "source": [
    "import fal_client\n",
    "import requests\n",
    "\n",
    "handler = fal_client.submit(\n",
    "  \"fal-ai/flux/dev\",\n",
    "  arguments={\n",
    "      \"prompt\": \"warm colours that look like diffused in liquid and are mixed up gently. Smooth transiotion between the colours, 8k\",\n",
    "      # \"image_size\": \"landscape_16_9\",\n",
    "      \"image_size\": {\n",
    "          \"width\": 1584,\n",
    "          \"height\": 396\n",
    "    }\n",
    "  },\n",
    ")\n",
    "\n",
    "result = handler.get()\n",
    "print(result)"
   ]
  },
  {
   "cell_type": "code",
   "execution_count": 58,
   "metadata": {},
   "outputs": [
    {
     "name": "stdout",
     "output_type": "stream",
     "text": [
      "Image saved as fal_output_1732043062_pro.png\n"
     ]
    }
   ],
   "source": [
    "fal_image = result['images']\n",
    "\n",
    "# Fetch the image\n",
    "response = requests.get(fal_image[0]['url'])\n",
    "response.raise_for_status()  # Raise an error if the request fails\n",
    "\n",
    "file_name = f'fal_output_{int(time.time())}_pro.png'\n",
    "\n",
    "# Save the image to a file\n",
    "with open(file_name, 'wb') as f:\n",
    "    f.write(response.content)\n",
    "\n",
    "print(f\"Image saved as {file_name}\")"
   ]
  },
  {
   "cell_type": "code",
   "execution_count": null,
   "metadata": {},
   "outputs": [],
   "source": []
  },
  {
   "cell_type": "code",
   "execution_count": 59,
   "metadata": {},
   "outputs": [
    {
     "data": {
      "text/plain": [
       "{'url': 'https://fal.media/files/kangaroo/yoYd7PXqbl48G4eFq-Ulj.png',\n",
       " 'width': 1536,\n",
       " 'height': 512,\n",
       " 'content_type': 'image/jpeg'}"
      ]
     },
     "execution_count": 59,
     "metadata": {},
     "output_type": "execute_result"
    }
   ],
   "source": [
    "fal_image[0] # is a list of dictionnaries"
   ]
  },
  {
   "cell_type": "code",
   "execution_count": null,
   "metadata": {},
   "outputs": [],
   "source": []
  },
  {
   "cell_type": "code",
   "execution_count": null,
   "metadata": {},
   "outputs": [],
   "source": []
  }
 ],
 "metadata": {
  "kernelspec": {
   "display_name": "deeplearning",
   "language": "python",
   "name": "python3"
  },
  "language_info": {
   "codemirror_mode": {
    "name": "ipython",
    "version": 3
   },
   "file_extension": ".py",
   "mimetype": "text/x-python",
   "name": "python",
   "nbconvert_exporter": "python",
   "pygments_lexer": "ipython3",
   "version": "3.12.7"
  }
 },
 "nbformat": 4,
 "nbformat_minor": 2
}
