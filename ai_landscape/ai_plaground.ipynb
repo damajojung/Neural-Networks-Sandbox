{
 "cells": [
  {
   "cell_type": "code",
   "execution_count": 85,
   "metadata": {},
   "outputs": [],
   "source": [
    "import os\n",
    "import replicate\n",
    "from replicate.client import Client\n",
    "import yaml\n",
    "import time\n",
    "import random\n",
    "\n",
    "from replicate_models import getFluxSchnellImage, getFluxDevImage, getFluxProImage"
   ]
  },
  {
   "cell_type": "code",
   "execution_count": 21,
   "metadata": {},
   "outputs": [],
   "source": [
    "with open(os.path.join(os.getcwd(), 'tokens.yml')) as f:\n",
    "    tokens = yaml.safe_load(f)"
   ]
  },
  {
   "cell_type": "code",
   "execution_count": null,
   "metadata": {},
   "outputs": [],
   "source": []
  },
  {
   "cell_type": "markdown",
   "metadata": {},
   "source": [
    "# Replicate"
   ]
  },
  {
   "cell_type": "code",
   "execution_count": 7,
   "metadata": {},
   "outputs": [
    {
     "name": "stdout",
     "output_type": "stream",
     "text": [
      "Image saved as output_1732213474.png\n"
     ]
    }
   ],
   "source": [
    "os.environ[\"REPLICATE_API_TOKEN\"] = tokens['REPLICATE_API_TOKEN'][0]\n",
    "replicate = Client(api_token=os.environ[\"REPLICATE_API_TOKEN\"])\n",
    "\n",
    "models = ['flux-schnell', 'flux-1.1-pro-ultra']\n",
    "model = models[0]\n",
    "\n",
    "output = replicate.run(\n",
    "  f\"black-forest-labs/{model}\",\n",
    "  input={\"prompt\": \"a desk of a nuclear engineer with lots of papers on it with calculations\"}\n",
    ")\n",
    "\n",
    "file_name = f'output_{int(time.time())}.png'\n",
    "\n",
    "# Save the generated image\n",
    "with open(file_name, 'wb') as f:\n",
    "    f.write(output[0].read())\n",
    " \n",
    "print(f\"Image saved as {file_name}\")"
   ]
  },
  {
   "cell_type": "code",
   "execution_count": null,
   "metadata": {},
   "outputs": [],
   "source": []
  },
  {
   "cell_type": "code",
   "execution_count": null,
   "metadata": {},
   "outputs": [],
   "source": []
  },
  {
   "cell_type": "markdown",
   "metadata": {},
   "source": [
    "### Flux Schnell"
   ]
  },
  {
   "cell_type": "code",
   "execution_count": null,
   "metadata": {},
   "outputs": [],
   "source": [
    "\n",
    "prompt = 'a stoic standing on a hill overlooking an ancient greek city'\n",
    "\n",
    "output = getFluxSchnellImage(prompt = prompt)\n",
    "\n",
    "file_name = f'output_{int(time.time())}_schnell.png'\n",
    "    \n",
    "# Save the generated image\n",
    "with open(file_name, 'wb') as f:\n",
    "    f.write(output[0].read())\n",
    " \n",
    "print(f\"Image saved as {file_name}\")"
   ]
  },
  {
   "cell_type": "code",
   "execution_count": null,
   "metadata": {},
   "outputs": [],
   "source": []
  },
  {
   "cell_type": "markdown",
   "metadata": {},
   "source": [
    "### Flux Dev"
   ]
  },
  {
   "cell_type": "code",
   "execution_count": null,
   "metadata": {},
   "outputs": [],
   "source": [
    "prompt = 'a stoic soldier standing on a hill overlooking an ancient greek city'\n",
    "\n",
    "output = getFluxDevImage(prompt = prompt)\n",
    "\n",
    "file_name = f'output_{int(time.time())}_dev.png'\n",
    "\n",
    "# Save the generated image\n",
    "with open(file_name, 'wb') as f:\n",
    "    f.write(output[0].read())\n",
    " \n",
    "print(f\"Image saved as {file_name}\")"
   ]
  },
  {
   "cell_type": "code",
   "execution_count": null,
   "metadata": {},
   "outputs": [],
   "source": []
  },
  {
   "cell_type": "markdown",
   "metadata": {},
   "source": [
    "### Flux Pro"
   ]
  },
  {
   "cell_type": "code",
   "execution_count": null,
   "metadata": {},
   "outputs": [],
   "source": [
    "prompt = 'a stoic soldier standing on a hill overlooking an ancient greek city'\n",
    "\n",
    "output = getFluxProImage(prompt = prompt)\n",
    "\n",
    "file_name = f'output_{int(time.time())}_pro.png'\n",
    "\n",
    "# Save the generated image\n",
    "with open(file_name, 'wb') as f:\n",
    "    f.write(output.read())\n",
    " \n",
    "print(f\"Image saved as {file_name}\")"
   ]
  },
  {
   "cell_type": "code",
   "execution_count": null,
   "metadata": {},
   "outputs": [],
   "source": [
    "# Save the generated image\n",
    "with open(file_name, 'wb') as f:\n",
    "    f.write(output.read())\n",
    " \n",
    "print(f\"Image saved as {file_name}\")"
   ]
  },
  {
   "cell_type": "code",
   "execution_count": null,
   "metadata": {},
   "outputs": [],
   "source": [
    "print(output)"
   ]
  },
  {
   "cell_type": "code",
   "execution_count": null,
   "metadata": {},
   "outputs": [],
   "source": []
  },
  {
   "cell_type": "code",
   "execution_count": null,
   "metadata": {},
   "outputs": [],
   "source": []
  },
  {
   "cell_type": "markdown",
   "metadata": {},
   "source": [
    "# fal"
   ]
  },
  {
   "cell_type": "code",
   "execution_count": 17,
   "metadata": {},
   "outputs": [],
   "source": [
    "import fal_client\n",
    "import requests\n",
    "\n",
    "os.environ[\"FAL_KEY\"] = tokens['FAL_KEY'][0]"
   ]
  },
  {
   "cell_type": "code",
   "execution_count": null,
   "metadata": {},
   "outputs": [],
   "source": [
    "handler = fal_client.submit(\n",
    "  \"fal-ai/flux/dev\",\n",
    "  arguments={\n",
    "      \"prompt\": \"a picture of deep space with many stars and colorful nebulas\",\n",
    "      # \"image_size\": \"landscape_16_9\",\n",
    "      \"image_size\": {\n",
    "          \"width\": 1584,\n",
    "          \"height\": 396\n",
    "    }\n",
    "  },\n",
    ")\n",
    "\n",
    "result = handler.get()\n",
    "print(result)"
   ]
  },
  {
   "cell_type": "code",
   "execution_count": 33,
   "metadata": {},
   "outputs": [
    {
     "name": "stdout",
     "output_type": "stream",
     "text": [
      "Image saved as fal_output_1734690702.png\n"
     ]
    }
   ],
   "source": [
    "fal_image = result['images']\n",
    "\n",
    "# Fetch the image\n",
    "response = requests.get(fal_image[0]['url'])\n",
    "response.raise_for_status()  # Raise an error if the request fails\n",
    "\n",
    "file_name = f'fal_output_{int(time.time())}.png'\n",
    "\n",
    "# Save the image to a file\n",
    "with open(file_name, 'wb') as f:\n",
    "    f.write(response.content)\n",
    "\n",
    "print(f\"Image saved as {file_name}\")"
   ]
  },
  {
   "cell_type": "code",
   "execution_count": null,
   "metadata": {},
   "outputs": [],
   "source": []
  },
  {
   "cell_type": "code",
   "execution_count": 59,
   "metadata": {},
   "outputs": [
    {
     "data": {
      "text/plain": [
       "{'url': 'https://fal.media/files/kangaroo/yoYd7PXqbl48G4eFq-Ulj.png',\n",
       " 'width': 1536,\n",
       " 'height': 512,\n",
       " 'content_type': 'image/jpeg'}"
      ]
     },
     "execution_count": 59,
     "metadata": {},
     "output_type": "execute_result"
    }
   ],
   "source": [
    "fal_image[0] # is a list of dictionnaries"
   ]
  },
  {
   "cell_type": "code",
   "execution_count": null,
   "metadata": {},
   "outputs": [],
   "source": [
    "# test"
   ]
  },
  {
   "cell_type": "code",
   "execution_count": null,
   "metadata": {},
   "outputs": [],
   "source": []
  },
  {
   "cell_type": "markdown",
   "metadata": {},
   "source": [
    "# Fal API"
   ]
  },
  {
   "cell_type": "code",
   "execution_count": 32,
   "metadata": {},
   "outputs": [],
   "source": [
    "import os\n",
    "import yaml\n",
    "import time\n",
    "import asyncio\n",
    "import fal_client\n",
    "import requests"
   ]
  },
  {
   "cell_type": "code",
   "execution_count": 42,
   "metadata": {},
   "outputs": [],
   "source": [
    "async def subscribe():\n",
    "    handler = await fal_client.submit_async(\n",
    "        \"comfy/damajojung/e1nileanfal\",\n",
    "        arguments={\n",
    "            \"prompt\": \"a european viking in an enchanted forest\"\n",
    "        },\n",
    "    )\n",
    "\n",
    "    async for event in handler.iter_events(with_logs=True):\n",
    "        print(event)\n",
    "\n",
    "    result = await handler.get()\n",
    "\n",
    "    print(result)"
   ]
  },
  {
   "cell_type": "code",
   "execution_count": null,
   "metadata": {},
   "outputs": [],
   "source": [
    "with open(os.path.join(os.getcwd(), 'tokens.yml')) as f:\n",
    "    tokens = yaml.safe_load(f)\n",
    "\n",
    "os.environ[\"FAL_KEY\"] = tokens['FAL_KEY'][0]\n",
    "\n",
    "a = time.time()\n",
    "asyncio.run(subscribe())\n",
    "b = time.time()\n",
    "\n",
    "c = b - a\n",
    "print(f'Inference Time: {round(c,3)} s')"
   ]
  },
  {
   "cell_type": "code",
   "execution_count": 37,
   "metadata": {},
   "outputs": [
    {
     "name": "stdout",
     "output_type": "stream",
     "text": [
      "1737487950.3400068\n",
      "1737487950.340039\n",
      "3.218650817871094e-05\n"
     ]
    }
   ],
   "source": [
    "a = time.time()\n",
    "b = time.time()\n",
    "\n",
    "print(a)\n",
    "print(b)\n",
    "\n",
    "c = b - a\n",
    "print(c)"
   ]
  },
  {
   "cell_type": "code",
   "execution_count": 78,
   "metadata": {},
   "outputs": [],
   "source": [
    "# Define the folder and file name\n",
    "folder = \"promts\"\n",
    "file_name = \"api_promts.yml\"\n",
    "\n",
    "# Construct the full file path\n",
    "file_path = os.path.join(os.getcwd(), folder, file_name)\n",
    "\n",
    "# Read the YAML file\n",
    "with open(file_path, \"r\") as f:\n",
    "    data = yaml.safe_load(f)"
   ]
  },
  {
   "cell_type": "code",
   "execution_count": 80,
   "metadata": {},
   "outputs": [
    {
     "name": "stdout",
     "output_type": "stream",
     "text": [
      "A product shot of a smooth orange sache pouring a fine white powder into a orange sport squeeze bottle against a very light grey background. The bottle has no text or labels. The lighting highlights the shiny, reflective texture of the metal, creating a shadow. The composition is centered, showcasing the sache and emphasizing its industrial, modern aesthetic. The atmosphere is minimalist and abstract, focusing on the bottle. The shot is taken with a flash, emphasizing the industrial vibe.\n",
      "Minimal aesthetic white tote bag hanging from a tea cup shelve, filled with some japanese tea cups, ceramic, modern asian, muted light colors\n",
      "A contemporary dining room with a minimalist design and warm tones, emphasizing natural wood. The space is anchored by a built-in light wood cabinet that spans the entire back wall, featuring clean-lined doors and drawers for a functional and seamless look. At the center, a rectangular dining table made of light wood is surrounded by chairs with wooden frames and beige upholstered seats, enhancing comfort and sophistication. On the table, small decorative objects like minimalist vases add subtle detail, while a linear pendant light in wood and black metal hangs above, adding a modern touch. In the background, ceramic vases and a green branch add lightness and a natural touch to the space. The polished concrete flooring complements the modern and serene aesthetic, while an open shelving unit on the right completes the balanced design.\n",
      "Dolce & Gabbana campaign featuring a model with dark hair in a bob cut, wearing a white blazer, editorial photography, shot outdoors in natural sunlight, against a blue sky, with the wind blowing her short, wavy hair, high resolution\n",
      "A blank, natural canvas tote bag placed in a serene home environment designed as a mockup. The background features soft pastel colors, a light wooden table, a small vase with fresh flowers in muted tones, and a window with sheer white curtains allowing natural daylight to stream in. The scene is minimalistic, emphasizing the tote bag as the central element, ready for showcasing any design or artwork in a clean and inviting atmosphere.\n",
      "Minimalist room, wood floor, natural light from the outside, in the style of Faeron hay nz architects, this scene embodies minimalism's focus on clean lines, open spaces, and natural elements, minimal mid century furniture, shot taken with Leica M6. The perspective is front-facing showcasing the entire space\n",
      "A surrealistic fashion photo of a woman with a sleek, pulled-back hairstyle and large, abstract earrings, set against a blue background. The image captures a blurred motion effect, giving a sense of movement or transition. The woman's skin appears smooth, and her makeup emphasizes her eyes and lips. The overall ambiance of the image is ethereal and artistic. The photo is dynamic, with the model in a confident pose. The background is fluid and organic, with a fantastico flair. The photo has a long exposure, with flares.\n",
      "editorial portrait of a young woman wearing an earthy-toned shirt, looking directly in the camera, very moody images, white minimal background, she has futuristic bleached hair, cool style, wearing bold black rectangle sunglasses\n",
      "Create an artistic portrait of a silhouetted female figure with a soft orange light projected across her face and neck. The scene is moody and minimalistic, with dark, gradient tones transitioning between deep blues and warm oranges in the background. The light beam emphasizes the contours of her features, creating a surreal and ethereal effect. The style is cinematic and visually dramatic, focusing on light and shadow interplay.\n",
      "A close-up of a black man's face with square, dark-framed glasses featuring green-tinted lenses. The glasses reflect subtle lighting, casting a shadow on the skin, which appears smooth and slightly textured. The focus is sharp, capturing the detailed eye behind the lens. The composition is intimate with a tight framing, emphasizing the mysterious and introspective mood. The overall color scheme is dominated by earthy skin tones and the soft green hue of the lenses.\n",
      "Nesta imagem, uma mulher negra nua caminha pelo deserto, coberta por flores que são lírios roxos que brotam em meio à aridez. O deserto, com seu solo rachado e suas paisagens desoladas, reflete as dificuldades e desafios da vida. No entanto, as flores que vestem o corpo dela trazem a mensagem de que, mesmo no ambiente mais hostil, há espaço para florescer.\n",
      "Large mirror standing upright in the middle of a mountain meadow, not reflecting its surroundings\n",
      "A minimalist composition featuring two hands gracefully intertwined against a soft, pastel sky. The hands should exhibit delicate details, showcasing elegant fingers and subtle skin tones. The background should be a smooth, uniform light blue, evoking a sense of tranquility and connection. Emphasize the beauty of human touch and the elegance of hand movements.\n",
      "A dreamy and ethereal photograph of a person with short pastel pink hair, partially obscured by a translucent red fabric or material. The lighting is soft and diffused, creating a hazy and artistic effect. The subject’s face is partially hidden, adding mystery and abstraction. The colour palette emphasises warm tones of red and pink, blending seamlessly with light blue in the background. soft focus, contemporary fashion photography, ethereal aesthetic, pastel colours, cinematic lighting. artistic inspiration, experimental editorial style, hazy photography\n",
      "editorial photography, an african woman's hand holding an orange, she has her nails painted in a vibrant orange color, reflective pink lake in the background, creative art direction\n"
     ]
    }
   ],
   "source": [
    "for d in data['promts']:\n",
    "    print(d)"
   ]
  },
  {
   "cell_type": "code",
   "execution_count": 84,
   "metadata": {},
   "outputs": [
    {
     "name": "stdout",
     "output_type": "stream",
     "text": [
      "1:1\n",
      "1024\n",
      "1024\n",
      "16:9\n",
      "1024\n",
      "576\n",
      "4:5\n",
      "1024\n",
      "1280\n"
     ]
    }
   ],
   "source": [
    "for ar in data['aspect_ratios']:\n",
    "    print(ar[\"aspect_ratio\"])\n",
    "    print(ar[\"width\"])\n",
    "    print(ar[\"height\"])"
   ]
  },
  {
   "cell_type": "code",
   "execution_count": 54,
   "metadata": {},
   "outputs": [],
   "source": [
    "folder = \"api_logs\"\n",
    "file_name = \"logs.txt\"\n",
    "file_path = os.path.join(os.getcwd(), folder, file_name)"
   ]
  },
  {
   "cell_type": "code",
   "execution_count": 55,
   "metadata": {},
   "outputs": [
    {
     "data": {
      "text/plain": [
       "'/Users/dj/Documents/GitHub/Neural-Networks-Sandbox/ai_landscape/api_logs/logs.txt'"
      ]
     },
     "execution_count": 55,
     "metadata": {},
     "output_type": "execute_result"
    }
   ],
   "source": [
    "file_path"
   ]
  },
  {
   "cell_type": "code",
   "execution_count": 68,
   "metadata": {},
   "outputs": [
    {
     "data": {
      "text/plain": [
       "'2025-01-22 10:12:45.934997'"
      ]
     },
     "execution_count": 68,
     "metadata": {},
     "output_type": "execute_result"
    }
   ],
   "source": [
    "\n",
    "from datetime import datetime\n",
    "str(datetime.now())"
   ]
  },
  {
   "cell_type": "code",
   "execution_count": 70,
   "metadata": {},
   "outputs": [
    {
     "data": {
      "text/plain": [
       "1737537311"
      ]
     },
     "execution_count": 70,
     "metadata": {},
     "output_type": "execute_result"
    }
   ],
   "source": [
    "round(time.time())"
   ]
  },
  {
   "cell_type": "code",
   "execution_count": 124,
   "metadata": {},
   "outputs": [
    {
     "data": {
      "text/plain": [
       "554125"
      ]
     },
     "execution_count": 124,
     "metadata": {},
     "output_type": "execute_result"
    }
   ],
   "source": [
    "random.randint(0, 1000000)"
   ]
  },
  {
   "cell_type": "code",
   "execution_count": null,
   "metadata": {},
   "outputs": [],
   "source": []
  },
  {
   "cell_type": "code",
   "execution_count": null,
   "metadata": {},
   "outputs": [],
   "source": []
  },
  {
   "cell_type": "code",
   "execution_count": null,
   "metadata": {},
   "outputs": [],
   "source": []
  },
  {
   "cell_type": "code",
   "execution_count": null,
   "metadata": {},
   "outputs": [],
   "source": []
  },
  {
   "cell_type": "code",
   "execution_count": null,
   "metadata": {},
   "outputs": [],
   "source": []
  },
  {
   "cell_type": "code",
   "execution_count": null,
   "metadata": {},
   "outputs": [],
   "source": []
  }
 ],
 "metadata": {
  "kernelspec": {
   "display_name": "deeplearning",
   "language": "python",
   "name": "python3"
  },
  "language_info": {
   "codemirror_mode": {
    "name": "ipython",
    "version": 3
   },
   "file_extension": ".py",
   "mimetype": "text/x-python",
   "name": "python",
   "nbconvert_exporter": "python",
   "pygments_lexer": "ipython3",
   "version": "3.12.7"
  }
 },
 "nbformat": 4,
 "nbformat_minor": 2
}
