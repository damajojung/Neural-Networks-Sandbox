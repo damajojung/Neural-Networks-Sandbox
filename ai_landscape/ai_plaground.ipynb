{
 "cells": [
  {
   "cell_type": "code",
   "execution_count": null,
   "metadata": {},
   "outputs": [],
   "source": [
    "import os\n",
    "import replicate\n",
    "from replicate.client import Client\n",
    "import yaml\n",
    "import time\n",
    "\n",
    "from replicate_models import getFluxSchnellImage, getFluxDevImage, getFluxProImage"
   ]
  },
  {
   "cell_type": "code",
   "execution_count": null,
   "metadata": {},
   "outputs": [],
   "source": [
    "with open(os.path.join(os.getcwd(), 'tokens.yml')) as f:\n",
    "    tokens = yaml.safe_load(f)"
   ]
  },
  {
   "cell_type": "code",
   "execution_count": null,
   "metadata": {},
   "outputs": [],
   "source": [
    "os.environ[\"REPLICATE_API_TOKEN\"] = tokens['REPLICATE_API_TOKEN'][0]\n",
    "replicate = Client(api_token=os.environ[\"REPLICATE_API_TOKEN\"])\n",
    "\n",
    "models = ['flux-schnell', 'flux-1.1-pro-ultra']\n",
    "model = models[0]\n",
    "\n",
    "output = replicate.run(\n",
    "  f\"black-forest-labs/{model}\",\n",
    "  input={\"prompt\": \"lots of golden bitcoins on a caribbean beach\"}\n",
    ")\n",
    "\n",
    "file_name = f'output_{int(time.time())}.png'\n",
    "\n",
    "# Save the generated image\n",
    "with open(file_name, 'wb') as f:\n",
    "    f.write(output[0].read())\n",
    " \n",
    "print(f\"Image saved as {file_name}\")"
   ]
  },
  {
   "cell_type": "code",
   "execution_count": null,
   "metadata": {},
   "outputs": [],
   "source": []
  },
  {
   "cell_type": "code",
   "execution_count": null,
   "metadata": {},
   "outputs": [],
   "source": []
  },
  {
   "cell_type": "markdown",
   "metadata": {},
   "source": [
    "# Flux Schnell"
   ]
  },
  {
   "cell_type": "code",
   "execution_count": null,
   "metadata": {},
   "outputs": [],
   "source": [
    "\n",
    "prompt = 'a stoic soldier standing on a hill overlooking an ancient greek city'\n",
    "\n",
    "output = getFluxSchnellImage(prompt = prompt)\n",
    "\n",
    "file_name = f'output_{int(time.time())}_schnell.png'\n",
    "    \n",
    "# Save the generated image\n",
    "with open(file_name, 'wb') as f:\n",
    "    f.write(output[0].read())\n",
    " \n",
    "print(f\"Image saved as {file_name}\")"
   ]
  },
  {
   "cell_type": "code",
   "execution_count": null,
   "metadata": {},
   "outputs": [],
   "source": []
  },
  {
   "cell_type": "markdown",
   "metadata": {},
   "source": [
    "# Flux Dev"
   ]
  },
  {
   "cell_type": "code",
   "execution_count": null,
   "metadata": {},
   "outputs": [],
   "source": [
    "prompt = 'a stoic soldier standing on a hill overlooking an ancient greek city'\n",
    "\n",
    "output = getFluxDevImage(prompt = prompt)\n",
    "\n",
    "file_name = f'output_{int(time.time())}_dev.png'\n",
    "\n",
    "# Save the generated image\n",
    "with open(file_name, 'wb') as f:\n",
    "    f.write(output[0].read())\n",
    " \n",
    "print(f\"Image saved as {file_name}\")"
   ]
  },
  {
   "cell_type": "code",
   "execution_count": null,
   "metadata": {},
   "outputs": [],
   "source": []
  },
  {
   "cell_type": "markdown",
   "metadata": {},
   "source": [
    "# Flux Pro"
   ]
  },
  {
   "cell_type": "code",
   "execution_count": null,
   "metadata": {},
   "outputs": [],
   "source": [
    "prompt = 'a stoic soldier standing on a hill overlooking an ancient greek city'\n",
    "\n",
    "output = getFluxProImage(prompt = prompt)\n",
    "\n",
    "file_name = f'output_{int(time.time())}_pro.png'\n",
    "\n",
    "# Save the generated image\n",
    "with open(file_name, 'wb') as f:\n",
    "    f.write(output.read())\n",
    " \n",
    "print(f\"Image saved as {file_name}\")"
   ]
  },
  {
   "cell_type": "code",
   "execution_count": null,
   "metadata": {},
   "outputs": [],
   "source": [
    "# Save the generated image\n",
    "with open(file_name, 'wb') as f:\n",
    "    f.write(output.read())\n",
    " \n",
    "print(f\"Image saved as {file_name}\")"
   ]
  },
  {
   "cell_type": "code",
   "execution_count": null,
   "metadata": {},
   "outputs": [],
   "source": [
    "print(output)"
   ]
  },
  {
   "cell_type": "code",
   "execution_count": null,
   "metadata": {},
   "outputs": [],
   "source": []
  }
 ],
 "metadata": {
  "kernelspec": {
   "display_name": "deeplearning",
   "language": "python",
   "name": "python3"
  },
  "language_info": {
   "codemirror_mode": {
    "name": "ipython",
    "version": 3
   },
   "file_extension": ".py",
   "mimetype": "text/x-python",
   "name": "python",
   "nbconvert_exporter": "python",
   "pygments_lexer": "ipython3",
   "version": "3.12.7"
  }
 },
 "nbformat": 4,
 "nbformat_minor": 2
}
