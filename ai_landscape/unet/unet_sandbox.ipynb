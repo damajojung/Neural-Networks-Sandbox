{
 "cells": [
  {
   "cell_type": "markdown",
   "metadata": {},
   "source": [
    "# Exploring a U-Net"
   ]
  },
  {
   "cell_type": "code",
   "execution_count": 4,
   "metadata": {},
   "outputs": [],
   "source": [
    "from diffusers import UNet2DModel\n",
    "import torch\n",
    "\n",
    "def explore_unet():\n",
    "    # Load a U-Net model from Hugging Face Diffusers library\n",
    "    unet = UNet2DModel.from_pretrained(\"google/ddpm-cifar10-32\")\n",
    "\n",
    "    # Print a summary of the model\n",
    "    # print(\"\\nModel Summary:\\n\")\n",
    "    # print(unet)\n",
    "\n",
    "    # Explore the model components\n",
    "    print(\"\\nModel Components:\\n\")\n",
    "    for name, module in unet.named_children():\n",
    "        print(f\"{name}: {module.__class__.__name__}\")\n",
    "\n",
    "    # Inspect the encoder and decoder\n",
    "    print(\"\\nEncoder and Decoder Blocks:\\n\")\n",
    "    for idx, block in enumerate(unet.down_blocks):\n",
    "        print(f\"Encoder Block {idx}: {block.__class__.__name__}\")\n",
    "    for idx, block in enumerate(unet.up_blocks):\n",
    "        print(f\"Decoder Block {idx}: {block.__class__.__name__}\")\n",
    "\n",
    "    # Check the attention blocks\n",
    "    print(\"\\nAttention Blocks:\\n\")\n",
    "    if hasattr(unet, 'mid_block'):\n",
    "        print(f\"Mid Block Attention: {unet.mid_block.attentions if hasattr(unet.mid_block, 'attentions') else 'None'}\")\n",
    "\n",
    "    # Optionally, pass a dummy input through the model\n",
    "    sample_input = torch.randn(1, unet.in_channels, 32, 32)  # Batch size 1, channels, height, width\n",
    "    timestep = torch.tensor([10])  # Example timestep\n",
    "    output = unet(sample_input, timestep).sample\n",
    "\n",
    "    print(\"\\nOutput Shape:\", output.shape)"
   ]
  },
  {
   "cell_type": "code",
   "execution_count": 5,
   "metadata": {},
   "outputs": [
    {
     "name": "stderr",
     "output_type": "stream",
     "text": [
      "Cannot initialize model with low cpu memory usage because `accelerate` was not found in the environment. Defaulting to `low_cpu_mem_usage=False`. It is strongly recommended to install `accelerate` for faster and less memory-intense model loading. You can do so with: \n",
      "```\n",
      "pip install accelerate\n",
      "```\n",
      ".\n"
     ]
    },
    {
     "name": "stdout",
     "output_type": "stream",
     "text": [
      "\n",
      "Model Components:\n",
      "\n",
      "conv_in: Conv2d\n",
      "time_proj: Timesteps\n",
      "time_embedding: TimestepEmbedding\n",
      "down_blocks: ModuleList\n",
      "up_blocks: ModuleList\n",
      "mid_block: UNetMidBlock2D\n",
      "conv_norm_out: GroupNorm\n",
      "conv_act: SiLU\n",
      "conv_out: Conv2d\n",
      "\n",
      "Encoder and Decoder Blocks:\n",
      "\n",
      "Encoder Block 0: DownBlock2D\n",
      "Encoder Block 1: AttnDownBlock2D\n",
      "Encoder Block 2: DownBlock2D\n",
      "Encoder Block 3: DownBlock2D\n",
      "Decoder Block 0: UpBlock2D\n",
      "Decoder Block 1: UpBlock2D\n",
      "Decoder Block 2: AttnUpBlock2D\n",
      "Decoder Block 3: UpBlock2D\n",
      "\n",
      "Attention Blocks:\n",
      "\n",
      "Mid Block Attention: ModuleList(\n",
      "  (0): Attention(\n",
      "    (group_norm): GroupNorm(32, 256, eps=1e-06, affine=True)\n",
      "    (to_q): Linear(in_features=256, out_features=256, bias=True)\n",
      "    (to_k): Linear(in_features=256, out_features=256, bias=True)\n",
      "    (to_v): Linear(in_features=256, out_features=256, bias=True)\n",
      "    (to_out): ModuleList(\n",
      "      (0): Linear(in_features=256, out_features=256, bias=True)\n",
      "      (1): Dropout(p=0.0, inplace=False)\n",
      "    )\n",
      "  )\n",
      ")\n"
     ]
    },
    {
     "name": "stderr",
     "output_type": "stream",
     "text": [
      "/var/folders/9r/pl8035cn4cjb59msrdwcrvhr0000gn/T/ipykernel_55667/78163008.py:30: FutureWarning: Accessing config attribute `in_channels` directly via 'UNet2DModel' object attribute is deprecated. Please access 'in_channels' over 'UNet2DModel's config object instead, e.g. 'unet.config.in_channels'.\n",
      "  sample_input = torch.randn(1, unet.in_channels, 32, 32)  # Batch size 1, channels, height, width\n"
     ]
    },
    {
     "name": "stdout",
     "output_type": "stream",
     "text": [
      "\n",
      "Output Shape: torch.Size([1, 3, 32, 32])\n"
     ]
    }
   ],
   "source": [
    "explore_unet()"
   ]
  },
  {
   "cell_type": "code",
   "execution_count": null,
   "metadata": {},
   "outputs": [],
   "source": []
  }
 ],
 "metadata": {
  "kernelspec": {
   "display_name": "deeplearning",
   "language": "python",
   "name": "python3"
  },
  "language_info": {
   "codemirror_mode": {
    "name": "ipython",
    "version": 3
   },
   "file_extension": ".py",
   "mimetype": "text/x-python",
   "name": "python",
   "nbconvert_exporter": "python",
   "pygments_lexer": "ipython3",
   "version": "3.12.7"
  }
 },
 "nbformat": 4,
 "nbformat_minor": 2
}
