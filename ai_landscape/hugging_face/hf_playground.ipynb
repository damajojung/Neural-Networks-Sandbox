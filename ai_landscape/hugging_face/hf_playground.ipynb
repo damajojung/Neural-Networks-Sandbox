{
 "cells": [
  {
   "cell_type": "markdown",
   "metadata": {},
   "source": [
    "# Hugging Face Playground"
   ]
  },
  {
   "cell_type": "markdown",
   "metadata": {},
   "source": [
    "# Flux-dev"
   ]
  },
  {
   "cell_type": "code",
   "execution_count": null,
   "metadata": {},
   "outputs": [],
   "source": [
    "from transformers import pipeline\n",
    "\n",
    "# Load the model pipeline from Hugging Face\n",
    "pipe = pipeline(\"text-to-image\", model=\"black-forest-labs/FLUX.1-dev\")\n",
    "\n",
    "# Define your prompt\n",
    "prompt = \"A futuristic cityscape at sunset with flying cars and neon lights.\"\n",
    "\n",
    "# Generate an image based on the prompt\n",
    "print(\"Generating image...\")\n",
    "output = pipe(prompt)\n",
    "\n",
    "# Save the generated image\n",
    "output[0][\"image\"].save(\"generated_image.png\")\n",
    "print(\"Image saved as 'generated_image.png'.\")\n"
   ]
  },
  {
   "cell_type": "code",
   "execution_count": null,
   "metadata": {},
   "outputs": [],
   "source": []
  },
  {
   "cell_type": "markdown",
   "metadata": {},
   "source": [
    "# Flux-schnell"
   ]
  },
  {
   "cell_type": "code",
   "execution_count": null,
   "metadata": {},
   "outputs": [],
   "source": [
    "import torch\n",
    "from diffusers import DiffusionPipeline\n",
    "\n",
    "# Check if a GPU is available and set the device accordingly\n",
    "device = \"cuda\" if torch.cuda.is_available() else \"cpu\"\n",
    "\n",
    "# Load the FLUX.1-schnell model from Hugging Face\n",
    "model_id = \"black-forest-labs/FLUX.1-schnell\"\n",
    "pipe = DiffusionPipeline.from_pretrained(model_id, torch_dtype=torch.float16)\n",
    "pipe = pipe.to(device)\n",
    "\n",
    "# Define your prompt\n",
    "prompt = \"A futuristic cityscape at sunset with flying cars and neon lights.\"\n",
    "\n",
    "# Generate the image\n",
    "with torch.autocast(device):\n",
    "    image = pipe(prompt).images[0]\n",
    "\n",
    "# Save the generated image\n",
    "image.save(\"flux1_schnell_generated_image.png\")\n",
    "print(\"Image saved as 'flux1_schnell_generated_image.png'.\")\n"
   ]
  },
  {
   "cell_type": "code",
   "execution_count": null,
   "metadata": {},
   "outputs": [],
   "source": []
  },
  {
   "cell_type": "code",
   "execution_count": null,
   "metadata": {},
   "outputs": [],
   "source": []
  },
  {
   "cell_type": "code",
   "execution_count": null,
   "metadata": {},
   "outputs": [],
   "source": []
  }
 ],
 "metadata": {
  "kernelspec": {
   "display_name": "deeplearning",
   "language": "python",
   "name": "python3"
  },
  "language_info": {
   "codemirror_mode": {
    "name": "ipython",
    "version": 3
   },
   "file_extension": ".py",
   "mimetype": "text/x-python",
   "name": "python",
   "nbconvert_exporter": "python",
   "pygments_lexer": "ipython3",
   "version": "3.12.7"
  }
 },
 "nbformat": 4,
 "nbformat_minor": 2
}
